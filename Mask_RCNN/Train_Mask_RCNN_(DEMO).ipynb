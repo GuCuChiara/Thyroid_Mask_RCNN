{
  "nbformat": 4,
  "nbformat_minor": 0,
  "metadata": {
    "kernelspec": {
      "display_name": "Python 3",
      "language": "python",
      "name": "python3"
    },
    "language_info": {
      "codemirror_mode": {
        "name": "ipython",
        "version": 3
      },
      "file_extension": ".py",
      "mimetype": "text/x-python",
      "name": "python",
      "nbconvert_exporter": "python",
      "pygments_lexer": "ipython3",
      "version": "3.7.9"
    },
    "colab": {
      "name": "Train_Mask_RCNN_(DEMO).ipynb",
      "provenance": [],
      "collapsed_sections": [
        "rGWTPWBIx370",
        "Omb3Yl6ABqiJ",
        "Z9k3Wm0_BqiN",
        "6npLKIL3BqiO"
      ]
    },
    "accelerator": "GPU"
  },
  "cells": [
    {
      "cell_type": "markdown",
      "metadata": {
        "id": "ThXrqHkKBqh9"
      },
      "source": [
        "# Mask R-CNN Training (Demo)\n",
        "\n",
        "\n",
        "This notebook shows how to train Mask R-CNN on your own dataset.\n",
        "This is a demo version which allows you to train your detector for 1 class.\n",
        "\n",
        "The full tutorial is available here: [Tutorial](https://pysource.com/2021/08/10/train-mask-r-cnn-for-image-segmentation-online-free-gpu)\n",
        "\n",
        "---\n",
        "\n",
        "**With the FULL VERSION YOU CAN:**\n",
        "- Train for multiple classes\n",
        "- Improve accuracy (longer training and bigger images)\n",
        "- Import the custom detector on Python with Opencv\n",
        "- Run detector in realtime on a Video or from a Webcam\n",
        "- Continue the training (if interrupted)\n",
        "- Integration with Google Drive (to save there weigths and images)\n",
        "- Evaluate the accuracy of your Model\n",
        "\n",
        "You can get the FULL Version here: [Mask RCNN PRO](https://pysource.com/mask-rcnn-training-pro/)\n",
        "\n",
        "---\n",
        "\n",
        "\n",
        "\n",
        "\n",
        "\n",
        "![logo_pysource_2020.png](data:image/png;base64,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)"
      ]
    },
    {
      "cell_type": "markdown",
      "metadata": {
        "id": "rGWTPWBIx370"
      },
      "source": [
        "## **1. Installation**\n",
        "\n",
        "Load your dataset"
      ]
    },
    {
      "cell_type": "code",
      "metadata": {
        "id": "Md87Hxgtn6zi"
      },
      "source": [
        "%tensorflow_version 1.x\n",
        "!pip install --upgrade h5py==2.10.0\n",
        "!git clone https://github.com/pysource7/Mask_RCNN\n",
        "import sys\n",
        "sys.path.append(\"/content/Mask_RCNN/demo\")\n",
        "from train_mask_rcnn_demo import *\n",
        "%matplotlib inline"
      ],
      "execution_count": null,
      "outputs": []
    },
    {
      "cell_type": "code",
      "metadata": {
        "id": "JvM9sdw3Vou_"
      },
      "source": [
        "!nvidia-smi"
      ],
      "execution_count": null,
      "outputs": []
    },
    {
      "cell_type": "markdown",
      "metadata": {
        "id": "Omb3Yl6ABqiJ"
      },
      "source": [
        "## **2. Image Dataset**\n",
        "\n",
        "Load your annotated dataset\n"
      ]
    },
    {
      "cell_type": "code",
      "metadata": {
        "id": "IlNYqGhvqb_p"
      },
      "source": [
        "# Extract Images\n",
        "images_path = \"images.zip\"\n",
        "annotations_path = \"annotations.json\"\n",
        "\n",
        "extract_images(os.path.join(\"/content/\",images_path), \"/content/dataset\")"
      ],
      "execution_count": null,
      "outputs": []
    },
    {
      "cell_type": "code",
      "metadata": {
        "id": "MnW8ETPKzqFT"
      },
      "source": [
        "dataset_train = load_image_dataset(os.path.join(\"/content/\", annotations_path), \"/content/dataset\", \"train\")\n",
        "dataset_val = load_image_dataset(os.path.join(\"/content/\", annotations_path), \"/content/dataset\", \"val\")\n",
        "class_number = dataset_train.count_classes()\n",
        "print('Train: %d' % len(dataset_train.image_ids))\n",
        "print('Validation: %d' % len(dataset_val.image_ids))\n",
        "print(\"Classes: {}\".format(class_number))"
      ],
      "execution_count": null,
      "outputs": []
    },
    {
      "cell_type": "code",
      "metadata": {
        "id": "umeaqvVeBqiL"
      },
      "source": [
        "# Load image samples\n",
        "display_image_samples(dataset_train)"
      ],
      "execution_count": null,
      "outputs": []
    },
    {
      "cell_type": "markdown",
      "metadata": {
        "id": "Z9k3Wm0_BqiN"
      },
      "source": [
        "##**3. Training**\n",
        "\n",
        "Train Mask RCNN on your custom Dataset."
      ]
    },
    {
      "cell_type": "code",
      "metadata": {
        "id": "axkqWaZ7z_4p"
      },
      "source": [
        "# Load Configuration\n",
        "config = CustomConfig(class_number)\n",
        "#config.display()\n",
        "model = load_training_model(config)"
      ],
      "execution_count": null,
      "outputs": []
    },
    {
      "cell_type": "code",
      "metadata": {
        "scrolled": false,
        "id": "SyzLXzF5BqiN"
      },
      "source": [
        "# Start Training\n",
        "# This operation might take a long time.\n",
        "train_head(model, dataset_train, dataset_train, config)"
      ],
      "execution_count": null,
      "outputs": []
    },
    {
      "cell_type": "markdown",
      "metadata": {
        "id": "6npLKIL3BqiO"
      },
      "source": [
        "## **4. Detection (test your model on a random image)**"
      ]
    },
    {
      "cell_type": "code",
      "metadata": {
        "id": "lUwXQ6h7BqiO"
      },
      "source": [
        "# Load Test Model\n",
        "# The latest trained model will be loaded\n",
        "test_model, inference_config = load_test_model(class_number)"
      ],
      "execution_count": null,
      "outputs": []
    },
    {
      "cell_type": "code",
      "metadata": {
        "id": "H8uzE5U3BqiP"
      },
      "source": [
        "# Test on a random image\n",
        "test_random_image(test_model, dataset_val, inference_config)"
      ],
      "execution_count": null,
      "outputs": []
    }
  ]
}
